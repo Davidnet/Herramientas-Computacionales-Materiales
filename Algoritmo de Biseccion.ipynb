{
 "metadata": {
  "name": "",
  "signature": "sha256:c110b0b20cd46dd58ef7f036b1a9418bc66018381b5eb23b13fb89066c4d60fc"
 },
 "nbformat": 3,
 "nbformat_minor": 0,
 "worksheets": [
  {
   "cells": [
    {
     "cell_type": "code",
     "collapsed": false,
     "input": [
      "%pylab inline"
     ],
     "language": "python",
     "metadata": {},
     "outputs": [
      {
       "output_type": "stream",
       "stream": "stdout",
       "text": [
        "Populating the interactive namespace from numpy and matplotlib\n"
       ]
      }
     ],
     "prompt_number": 1
    },
    {
     "cell_type": "heading",
     "level": 1,
     "metadata": {},
     "source": [
      "Algoritmo de Bisecci\u00f3n"
     ]
    },
    {
     "cell_type": "markdown",
     "metadata": {},
     "source": [
      "En este cuaderno, realizaremos una implementacion del algoritmo de Bisecci\u00f3n. Primero, definiremos una funcion de mismosigno y despues la definici\u00f3n de la funci\u00f3n que implementa el algoritmo."
     ]
    },
    {
     "cell_type": "code",
     "collapsed": false,
     "input": [
      "def mismosigno(x, y):\n",
      "    if x * y > 0:\n",
      "        return True\n",
      "    return False"
     ],
     "language": "python",
     "metadata": {},
     "outputs": [],
     "prompt_number": 2
    },
    {
     "cell_type": "code",
     "collapsed": false,
     "input": [
      "def biseccion(x_inf, x_sup, itermax, f, tol):\n",
      "    contador = 0\n",
      "    flag = True\n",
      "    if mismosigno(f(x_inf), f(x_sup)):\n",
      "        print \"No puede existir una raiz en este intervalo, revisa tus parametros\"\n",
      "    while flag:\n",
      "        if contador != 0:\n",
      "            x_rviejo = x_rnuevo\n",
      "        x_rnuevo = (x_inf + x_sup) / 2.0\n",
      "        if mismosigno(f(x_rnuevo), f(x_inf)):\n",
      "            x_inf = x_rnuevo\n",
      "        if not mismosigno(f(x_rnuevo), f(x_inf)):\n",
      "            x_sup = x_rnuevo\n",
      "        if contador > itermax:\n",
      "            flag = False\n",
      "        if contador != 0:\n",
      "            ea = abs((x_rnuevo - x_rviejo) / x_rnuevo) * 100\n",
      "            if ea < tol:\n",
      "                flag = False\n",
      "        print x_rnuevo\n",
      "        contador += 1"
     ],
     "language": "python",
     "metadata": {},
     "outputs": [],
     "prompt_number": 3
    },
    {
     "cell_type": "code",
     "collapsed": false,
     "input": [
      "def testfunction(x):\n",
      "    return exp(- (x**2)) +x - sin(x)"
     ],
     "language": "python",
     "metadata": {},
     "outputs": [],
     "prompt_number": 4
    }
   ],
   "metadata": {}
  }
 ]
}